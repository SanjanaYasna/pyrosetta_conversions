{
 "cells": [
  {
   "cell_type": "code",
   "execution_count": 3,
   "metadata": {},
   "outputs": [],
   "source": [
    "import os\n",
    "import urllib.request\n",
    "import pandas as pd\n",
    "import pyrosetta\n",
    "from pyrosetta.toolbox.rcsb import load_fasta_from_rcsb, pose_from_rcsb, load_from_rcsb\n",
    "from pyrosetta import pose_from_pdb"
   ]
  },
  {
   "cell_type": "code",
   "execution_count": 5,
   "metadata": {},
   "outputs": [
    {
     "name": "stdout",
     "output_type": "stream",
     "text": [
      "┌──────────────────────────────────────────────────────────────────────────────┐\n",
      "│                                 PyRosetta-4                                  │\n",
      "│              Created in JHU by Sergey Lyskov and PyRosetta Team              │\n",
      "│              (C) Copyright Rosetta Commons Member Institutions               │\n",
      "│                                                                              │\n",
      "│ NOTE: USE OF PyRosetta FOR COMMERCIAL PURPOSES REQUIRE PURCHASE OF A LICENSE │\n",
      "│         See LICENSE.PyRosetta.md or email license@uw.edu for details         │\n",
      "└──────────────────────────────────────────────────────────────────────────────┘\n",
      "PyRosetta-4 2024 [Rosetta PyRosetta4.Release.python38.ubuntu 2024.42+release.3366cf78a3df04339d1982e94531b77b098ddb99 2024-10-11T08:24:04] retrieved from: http://www.pyrosetta.org\n",
      "core.init: Checking for fconfig files in pwd and ./rosetta/flags\n",
      "core.init: Rosetta version: PyRosetta4.Release.python38.ubuntu r388 2024.42+release.3366cf78a3 3366cf78a3df04339d1982e94531b77b098ddb99 http://www.pyrosetta.org 2024-10-11T08:24:04\n",
      "core.init: Rosetta extras: []\n",
      "core.init: command: PyRosetta -ex1 -ex2aro -database /Users/robsonlab/anaconda3-new/envs/Slusky/lib/python3.8/site-packages/pyrosetta/database\n",
      "basic.random.init_random_generator: 'RNG device' seed mode, using '/dev/urandom', seed=-1953101552 seed_offset=0 real_seed=-1953101552\n",
      "basic.random.init_random_generator: RandomGenerator:init: Normal mode, seed=-1953101552 RG_type=mt19937\n"
     ]
    }
   ],
   "source": [
    "pyrosetta.init()"
   ]
  },
  {
   "cell_type": "code",
   "execution_count": 3,
   "metadata": {},
   "outputs": [],
   "source": [
    "csv = pd.read_csv(\"/Users/robsonlab/Teetly/get_data_pyrosetta/ec_1_4_start_truncated\", sep=\"\\t\")"
   ]
  },
  {
   "cell_type": "code",
   "execution_count": 4,
   "metadata": {},
   "outputs": [
    {
     "data": {
      "text/html": [
       "<div>\n",
       "<style scoped>\n",
       "    .dataframe tbody tr th:only-of-type {\n",
       "        vertical-align: middle;\n",
       "    }\n",
       "\n",
       "    .dataframe tbody tr th {\n",
       "        vertical-align: top;\n",
       "    }\n",
       "\n",
       "    .dataframe thead th {\n",
       "        text-align: right;\n",
       "    }\n",
       "</style>\n",
       "<table border=\"1\" class=\"dataframe\">\n",
       "  <thead>\n",
       "    <tr style=\"text-align: right;\">\n",
       "      <th></th>\n",
       "      <th>Entry</th>\n",
       "      <th>EC number</th>\n",
       "      <th>Sequence</th>\n",
       "      <th>PDB</th>\n",
       "      <th>EC_Shortened</th>\n",
       "    </tr>\n",
       "  </thead>\n",
       "  <tbody>\n",
       "    <tr>\n",
       "      <th>0</th>\n",
       "      <td>Q4WP32</td>\n",
       "      <td>1.14.99.56</td>\n",
       "      <td>MTLSKITSIAGLLASASLVAGHGFVSGIVADGKYYGGYLVNQYPYM...</td>\n",
       "      <td>5X6A;6H1Z;6HA5;6HAQ;</td>\n",
       "      <td>[1]</td>\n",
       "    </tr>\n",
       "    <tr>\n",
       "      <th>1</th>\n",
       "      <td>G9QLG5</td>\n",
       "      <td>1.6.5.-; 1.7.1.17</td>\n",
       "      <td>MAKVLYITAHPLDETQSYSMAVGKAFIDTYKEVNPNDEVIHIDLYK...</td>\n",
       "      <td>6JXN;6JXS;</td>\n",
       "      <td>[1]</td>\n",
       "    </tr>\n",
       "    <tr>\n",
       "      <th>2</th>\n",
       "      <td>Q13363</td>\n",
       "      <td>1.1.1.-</td>\n",
       "      <td>MGSSHLLNKGLPLGVRPPIMNGPLHPRPLVALLDGRDCTVEMPILK...</td>\n",
       "      <td>1MX3;4LCE;4U6Q;4U6S;6CDF;6CDR;6V89;6V8A;7KWM;8...</td>\n",
       "      <td>[1]</td>\n",
       "    </tr>\n",
       "    <tr>\n",
       "      <th>3</th>\n",
       "      <td>P37063</td>\n",
       "      <td>1.2.3.3</td>\n",
       "      <td>MVMKQTKQTNILAGAAVIKVLEAWGVDHLYGIPGGSINSIMDALSA...</td>\n",
       "      <td>1POW;1POX;1Y9D;2EZ4;2EZ8;2EZ9;2EZT;2EZU;6HAF;</td>\n",
       "      <td>[1]</td>\n",
       "    </tr>\n",
       "    <tr>\n",
       "      <th>4</th>\n",
       "      <td>A0A0E3QYL7</td>\n",
       "      <td>1.12.98.1</td>\n",
       "      <td>MARIVRIREIAQTIAAIAGGEAIHPSNPRIGGMYHNVSPRAKQKMA...</td>\n",
       "      <td>6QGR;6QGT;6QII;</td>\n",
       "      <td>[1]</td>\n",
       "    </tr>\n",
       "    <tr>\n",
       "      <th>...</th>\n",
       "      <td>...</td>\n",
       "      <td>...</td>\n",
       "      <td>...</td>\n",
       "      <td>...</td>\n",
       "      <td>...</td>\n",
       "    </tr>\n",
       "    <tr>\n",
       "      <th>5118</th>\n",
       "      <td>P04075</td>\n",
       "      <td>4.1.2.13</td>\n",
       "      <td>MPYQYPALTPEQKKELSDIAHRIVAPGKGILAADESTGSIAKRLQS...</td>\n",
       "      <td>1ALD;2ALD;4ALD;5KY6;6XMH;6XML;6XMM;6XMO;</td>\n",
       "      <td>[4]</td>\n",
       "    </tr>\n",
       "    <tr>\n",
       "      <th>5119</th>\n",
       "      <td>P23755</td>\n",
       "      <td>4.1.1.39</td>\n",
       "      <td>MSQSLEEKSVQERTRIKNSRYESGVIPYAKMGYWNPDYQVKDTDVL...</td>\n",
       "      <td>4F0H;4F0K;4F0M;</td>\n",
       "      <td>[4]</td>\n",
       "    </tr>\n",
       "    <tr>\n",
       "      <th>5120</th>\n",
       "      <td>Q5LT18</td>\n",
       "      <td>4.4.1.3</td>\n",
       "      <td>MTQTDPAFQNLLAEFQALHAREPALAGFVALPDSLTPQPVTPVRIP...</td>\n",
       "      <td>5CU1;</td>\n",
       "      <td>[4]</td>\n",
       "    </tr>\n",
       "    <tr>\n",
       "      <th>5121</th>\n",
       "      <td>Q9I0K4</td>\n",
       "      <td>4.1.3.1</td>\n",
       "      <td>MSAYQNEIKAVAALKEKNGSSWSAINPEYAARMRIQNRFKTGLDIA...</td>\n",
       "      <td>6G1O;</td>\n",
       "      <td>[4]</td>\n",
       "    </tr>\n",
       "    <tr>\n",
       "      <th>5122</th>\n",
       "      <td>Q83B44</td>\n",
       "      <td>4.2.1.11</td>\n",
       "      <td>MTATITDINAHEILDSRANPTLEVRVTLSSQAYGCAAVPSGASTGE...</td>\n",
       "      <td>3TQP;</td>\n",
       "      <td>[4]</td>\n",
       "    </tr>\n",
       "  </tbody>\n",
       "</table>\n",
       "<p>5123 rows × 5 columns</p>\n",
       "</div>"
      ],
      "text/plain": [
       "           Entry          EC number  \\\n",
       "0         Q4WP32         1.14.99.56   \n",
       "1         G9QLG5  1.6.5.-; 1.7.1.17   \n",
       "2         Q13363            1.1.1.-   \n",
       "3         P37063            1.2.3.3   \n",
       "4     A0A0E3QYL7          1.12.98.1   \n",
       "...          ...                ...   \n",
       "5118      P04075           4.1.2.13   \n",
       "5119      P23755           4.1.1.39   \n",
       "5120      Q5LT18            4.4.1.3   \n",
       "5121      Q9I0K4            4.1.3.1   \n",
       "5122      Q83B44           4.2.1.11   \n",
       "\n",
       "                                               Sequence  \\\n",
       "0     MTLSKITSIAGLLASASLVAGHGFVSGIVADGKYYGGYLVNQYPYM...   \n",
       "1     MAKVLYITAHPLDETQSYSMAVGKAFIDTYKEVNPNDEVIHIDLYK...   \n",
       "2     MGSSHLLNKGLPLGVRPPIMNGPLHPRPLVALLDGRDCTVEMPILK...   \n",
       "3     MVMKQTKQTNILAGAAVIKVLEAWGVDHLYGIPGGSINSIMDALSA...   \n",
       "4     MARIVRIREIAQTIAAIAGGEAIHPSNPRIGGMYHNVSPRAKQKMA...   \n",
       "...                                                 ...   \n",
       "5118  MPYQYPALTPEQKKELSDIAHRIVAPGKGILAADESTGSIAKRLQS...   \n",
       "5119  MSQSLEEKSVQERTRIKNSRYESGVIPYAKMGYWNPDYQVKDTDVL...   \n",
       "5120  MTQTDPAFQNLLAEFQALHAREPALAGFVALPDSLTPQPVTPVRIP...   \n",
       "5121  MSAYQNEIKAVAALKEKNGSSWSAINPEYAARMRIQNRFKTGLDIA...   \n",
       "5122  MTATITDINAHEILDSRANPTLEVRVTLSSQAYGCAAVPSGASTGE...   \n",
       "\n",
       "                                                    PDB EC_Shortened  \n",
       "0                                  5X6A;6H1Z;6HA5;6HAQ;          [1]  \n",
       "1                                            6JXN;6JXS;          [1]  \n",
       "2     1MX3;4LCE;4U6Q;4U6S;6CDF;6CDR;6V89;6V8A;7KWM;8...          [1]  \n",
       "3         1POW;1POX;1Y9D;2EZ4;2EZ8;2EZ9;2EZT;2EZU;6HAF;          [1]  \n",
       "4                                       6QGR;6QGT;6QII;          [1]  \n",
       "...                                                 ...          ...  \n",
       "5118           1ALD;2ALD;4ALD;5KY6;6XMH;6XML;6XMM;6XMO;          [4]  \n",
       "5119                                    4F0H;4F0K;4F0M;          [4]  \n",
       "5120                                              5CU1;          [4]  \n",
       "5121                                              6G1O;          [4]  \n",
       "5122                                              3TQP;          [4]  \n",
       "\n",
       "[5123 rows x 5 columns]"
      ]
     },
     "execution_count": 4,
     "metadata": {},
     "output_type": "execute_result"
    }
   ],
   "source": [
    "#list rows with only one pdb\n",
    "csv"
   ]
  },
  {
   "cell_type": "code",
   "execution_count": 8,
   "metadata": {},
   "outputs": [
    {
     "name": "stdout",
     "output_type": "stream",
     "text": [
      "core.import_pose.import_pose: File '/Users/robsonlab/Teetly/get_data_pyrosetta/1MX3.clean.pdb' automatically determined to be of type PDB\n",
      "core.conformation.Conformation: [ WARNING ] missing heavyatom:  OXT on residue ASN:CtermProteinFull 326\n"
     ]
    }
   ],
   "source": [
    "pose = pose_from_rcsb(\"1mx3\", ATOM= True)"
   ]
  },
  {
   "cell_type": "code",
   "execution_count": 188,
   "metadata": {},
   "outputs": [
    {
     "data": {
      "text/plain": [
       "326"
      ]
     },
     "execution_count": 188,
     "metadata": {},
     "output_type": "execute_result"
    }
   ],
   "source": [
    "pose.total_residue()"
   ]
  },
  {
   "cell_type": "code",
   "execution_count": 9,
   "metadata": {},
   "outputs": [],
   "source": [
    "pose_seq = pose.sequence()"
   ]
  },
  {
   "cell_type": "code",
   "execution_count": 10,
   "metadata": {},
   "outputs": [
    {
     "data": {
      "text/plain": [
       "326"
      ]
     },
     "execution_count": 10,
     "metadata": {},
     "output_type": "execute_result"
    }
   ],
   "source": [
    "len(pose_seq)"
   ]
  },
  {
   "cell_type": "code",
   "execution_count": 12,
   "metadata": {},
   "outputs": [
    {
     "data": {
      "text/plain": [
       "326"
      ]
     },
     "execution_count": 12,
     "metadata": {},
     "output_type": "execute_result"
    }
   ],
   "source": [
    "pose.total_residue()"
   ]
  },
  {
   "cell_type": "code",
   "execution_count": 190,
   "metadata": {},
   "outputs": [],
   "source": [
    "canon_seq = csv.loc[csv['Entry'] == \"Q13363\"]['Sequence'].values[0]"
   ]
  },
  {
   "cell_type": "code",
   "execution_count": 180,
   "metadata": {},
   "outputs": [
    {
     "data": {
      "text/plain": [
       "'MGSSHLLNKGLPLGVRPPIMNGPLHPRPLVALLDGRDCTVEMPILKDVATVAFCDAQSTQEIHEKVLNEAVGALMYHTITLTREDLEKFKALRIIVRIGSGFDNIDIKSAGDLGIAVCNVPAASVEETADSTLCHILNLYRRATWLHQALREGTRVQSVEQIREVASGAARIRGETLGIIGLGRVGQAVALRAKAFGFNVLFYDPYLSDGVERALGLQRVSTLQDLLFHSDCVTLHCGLNEHNHHLINDFTVKQMRQGAFLVNTARGGLVDEKALAQALKEGRIRGAALDVHESEPFSFSQGPLKDAPNLICTPHAAWYSEQASIEMREEAAREIRRAITGRIPDSLKNCVNKDHLTAATHWASMDPAVVHPELNGAAYRYPPGVVGVAPTGIPAAVEGIVPSAMSLSHGLPPVAHPPHAPSPGQTVKPEADRDHASDQL'"
      ]
     },
     "execution_count": 180,
     "metadata": {},
     "output_type": "execute_result"
    }
   ],
   "source": [
    "canon_seq"
   ]
  },
  {
   "cell_type": "code",
   "execution_count": 143,
   "metadata": {},
   "outputs": [],
   "source": [
    "import re\n",
    "from difflib import SequenceMatcher"
   ]
  },
  {
   "cell_type": "code",
   "execution_count": 191,
   "metadata": {},
   "outputs": [],
   "source": [
    "matcher = SequenceMatcher(None, pose_seq, canon_seq, autojunk=False)\n",
    "match = matcher.find_longest_match( 0, len(pose_seq), 0, len(canon_seq))"
   ]
  },
  {
   "cell_type": "code",
   "execution_count": 157,
   "metadata": {},
   "outputs": [
    {
     "data": {
      "text/plain": [
       "'MGSSHLLNKGLPLGVRPPIMNGPLHPRPLVALLDGRDCTVEMPILKDVATVAFCDAQSTQEIHEKVLNEAVGALMYHTITLTREDLEKFKALRIIVRIGSGFDNIDIKSAGDLGIAVCNVPAASVEETADSTLCHILNLYRRATWLHQALREGTRVQSVEQIREVASGAARIRGETLGIIGLGRVGQAVALRAKAFGFNVLFYDPYLSDGVERALGLQRVSTLQDLLFHSDCVTLHCGLNEHNHHLINDFTVKQMRQGAFLVNTARGGLVDEKALAQALKEGRIRGAALDVHESEPFSFSQGPLKDAPNLICTPHAAWYSEQASIEMREEAAREIRRAITGRIPDSLKNCVNKDHLTAATHWASMDPAVVHPELNGAAYRYPPGVVGVAPTGIPAAVEGIVPSAMSLSHGLPPVAHPPHAPSPGQTVKPEADRDHASDQL'"
      ]
     },
     "execution_count": 157,
     "metadata": {},
     "output_type": "execute_result"
    }
   ],
   "source": [
    "canon_seq"
   ]
  },
  {
   "cell_type": "code",
   "execution_count": 192,
   "metadata": {},
   "outputs": [],
   "source": [
    "#THESE ARE NUMBERED FROM 0\n",
    "pose_seq_common_start = match.a\n",
    "pose_seq_common_end = match.a + match.size - 1\n",
    "canon_seq_common_start = match.b \n",
    "canon_seq_common_end = match.b + match.size - 1"
   ]
  },
  {
   "cell_type": "code",
   "execution_count": 200,
   "metadata": {},
   "outputs": [
    {
     "data": {
      "text/plain": [
       "'PLVALLDGRDCTVEMPILKDVATVAFCDAQSTQEIHEKVLNEAVGALMYHTITLTREDLEKFKALRIIVRIGSGFDNIDIKSAGDLGIAVCNVPAASVEETADSTLCHILNLYRRATWLHQALREGTRVQSVEQIREVASGAARIRGETLGIIGLGRVGQAVALRAKAFGFNVLFYDPYLSDGVERALGLQRVSTLQDLLFHSDCVTLHCGLNEHNHHLINDFTVKQMRQGAFLVNTARGGLVDEKALAQALKEGRIRGAALDVHESEPFSFSQGPLKDAPNLICTPHAAWYSEQASIEMREEAAREIRRAITGRIPDSLKNCV'"
      ]
     },
     "execution_count": 200,
     "metadata": {},
     "output_type": "execute_result"
    }
   ],
   "source": [
    "pose_seq[pose_seq_common_start:pose_seq_common_end]"
   ]
  },
  {
   "cell_type": "code",
   "execution_count": 184,
   "metadata": {},
   "outputs": [
    {
     "data": {
      "text/plain": [
       "Match(a=1, b=27, size=325)"
      ]
     },
     "execution_count": 184,
     "metadata": {},
     "output_type": "execute_result"
    }
   ],
   "source": [
    "match"
   ]
  },
  {
   "cell_type": "code",
   "execution_count": 208,
   "metadata": {},
   "outputs": [],
   "source": [
    "#clamp pose for common substring\n",
    "if pose_seq_common_start > 0:\n",
    "    pose.delete_residue_range_slow(1, pose_seq_common_start)\n",
    "if pose_seq_common_end <= pose.total_residue():\n",
    "    pose.delete_residue_range_slow(pose_seq_common_end , pose.total_residue())"
   ]
  },
  {
   "cell_type": "code",
   "execution_count": null,
   "metadata": {},
   "outputs": [],
   "source": [
    "pose"
   ]
  },
  {
   "cell_type": "code",
   "execution_count": 205,
   "metadata": {},
   "outputs": [
    {
     "data": {
      "text/plain": [
       "'PLVALLDGRDCTVEMPILKDVATVAFCDAQSTQEIHEKVLNEAVGALMYHTITLTREDLEKFKALRIIVRIGSGFDNIDIKSAGDLGIAVCNVPAASVEETADSTLCHILNLYRRATWLHQALREGTRVQSVEQIREVASGAARIRGETLGIIGLGRVGQAVALRAKAFGFNVLFYDPYLSDGVERALGLQRVSTLQDLLFHSDCVTLHCGLNEHNHHLINDFTVKQMRQGAFLVNTARGGLVDEKALAQALKEGRIRGAALDVHESEPFSFSQGPLKDAPNLICTPHAAWYSEQASIEMREEAAREIRRAITGRIPDSLKNCV'"
      ]
     },
     "execution_count": 205,
     "metadata": {},
     "output_type": "execute_result"
    }
   ],
   "source": [
    "pose.sequence()"
   ]
  },
  {
   "cell_type": "code",
   "execution_count": 206,
   "metadata": {},
   "outputs": [
    {
     "data": {
      "text/plain": [
       "<AA.aa_asp: 3>"
      ]
     },
     "execution_count": 206,
     "metadata": {},
     "output_type": "execute_result"
    }
   ],
   "source": [
    "pose.aa(204-28+1)\n",
    "#to get that active/binding site number, do site_num - canon_start_in_name + 1"
   ]
  },
  {
   "cell_type": "code",
   "execution_count": 20,
   "metadata": {},
   "outputs": [],
   "source": [
    "from pyrosetta.rosetta.core.pose import Pose\n",
    "from pyrosetta.rosetta.core.select import PreSelectedResidRange"
   ]
  },
  {
   "cell_type": "code",
   "execution_count": 23,
   "metadata": {},
   "outputs": [
    {
     "ename": "TypeError",
     "evalue": "__init__(): incompatible constructor arguments. The following argument types are supported:\n    1. pyrosetta.rosetta.core.select.PreSelectedResidRange(pose: pyrosetta.rosetta.core.pose.Pose, selectors: pyrosetta.rosetta.utility.vector1_std_shared_ptr_const_core_select_residue_selector_ResidueSelector_t)\n    2. pyrosetta.rosetta.core.select.PreSelectedResidRange(arg0: pyrosetta.rosetta.core.select.PreSelectedResidRange)\n\nInvoked with: <pyrosetta.rosetta.core.pose.Pose object at 0x15555073a1b0>, 1, 50",
     "output_type": "error",
     "traceback": [
      "\u001b[0;31m---------------------------------------------------------------------------\u001b[0m",
      "\u001b[0;31mTypeError\u001b[0m                                 Traceback (most recent call last)",
      "\u001b[1;32m/Users/robsonlab/Teetly/get_data_pyrosetta/test_pyrosetta.ipynb Cell 10\u001b[0m line \u001b[0;36m1\n\u001b[0;32m----> <a href='vscode-notebook-cell://ssh-remote%2Bgridlog.smith.edu/Users/robsonlab/Teetly/get_data_pyrosetta/test_pyrosetta.ipynb#X32sdnNjb2RlLXJlbW90ZQ%3D%3D?line=0'>1</a>\u001b[0m pose_clamped \u001b[39m=\u001b[39m PreSelectedResidRange(pose, \u001b[39m1\u001b[39;49m, \u001b[39m50\u001b[39;49m)\n",
      "\u001b[0;31mTypeError\u001b[0m: __init__(): incompatible constructor arguments. The following argument types are supported:\n    1. pyrosetta.rosetta.core.select.PreSelectedResidRange(pose: pyrosetta.rosetta.core.pose.Pose, selectors: pyrosetta.rosetta.utility.vector1_std_shared_ptr_const_core_select_residue_selector_ResidueSelector_t)\n    2. pyrosetta.rosetta.core.select.PreSelectedResidRange(arg0: pyrosetta.rosetta.core.select.PreSelectedResidRange)\n\nInvoked with: <pyrosetta.rosetta.core.pose.Pose object at 0x15555073a1b0>, 1, 50"
     ]
    }
   ],
   "source": [
    "pose_clamped = PreSelectedResidRange(pose, 1, 50)"
   ]
  },
  {
   "cell_type": "code",
   "execution_count": 7,
   "metadata": {},
   "outputs": [
    {
     "ename": "AttributeError",
     "evalue": "'pyrosetta.rosetta.core.pose.Pose' object has no attribute 'dump'",
     "output_type": "error",
     "traceback": [
      "\u001b[0;31m---------------------------------------------------------------------------\u001b[0m",
      "\u001b[0;31mAttributeError\u001b[0m                            Traceback (most recent call last)",
      "\u001b[1;32m/Users/robsonlab/Teetly/get_data_pyrosetta/test_pyrosetta.ipynb Cell 23\u001b[0m line \u001b[0;36m1\n\u001b[0;32m----> <a href='vscode-notebook-cell://ssh-remote%2Bgridlog.smith.edu/Users/robsonlab/Teetly/get_data_pyrosetta/test_pyrosetta.ipynb#X56sdnNjb2RlLXJlbW90ZQ%3D%3D?line=0'>1</a>\u001b[0m pose\u001b[39m.\u001b[39;49mdump(\u001b[39m\"\u001b[39m\u001b[39m1MX3.clean.pdb\u001b[39m\u001b[39m\"\u001b[39m)\n",
      "\u001b[0;31mAttributeError\u001b[0m: 'pyrosetta.rosetta.core.pose.Pose' object has no attribute 'dump'"
     ]
    }
   ],
   "source": [
    "pose.dump(\"1MX3.clean.pdb\")"
   ]
  },
  {
   "cell_type": "code",
   "execution_count": 10,
   "metadata": {},
   "outputs": [],
   "source": [
    "#dump pose to pdb\n",
    "Pose.dump_comment_pdb(\"1mx3.pdb\", pose)"
   ]
  },
  {
   "cell_type": "code",
   "execution_count": 40,
   "metadata": {},
   "outputs": [
    {
     "name": "stdout",
     "output_type": "stream",
     "text": [
      "core.import_pose.import_pose: File '1mx3_truncated.pdb' automatically determined to be of type PDB\n"
     ]
    }
   ],
   "source": [
    "pose = pose_from_pdb(\"1mx3_truncated.pdb\")"
   ]
  },
  {
   "cell_type": "code",
   "execution_count": 41,
   "metadata": {},
   "outputs": [
    {
     "data": {
      "text/plain": [
       "275"
      ]
     },
     "execution_count": 41,
     "metadata": {},
     "output_type": "execute_result"
    }
   ],
   "source": [
    "len(pose.sequence())"
   ]
  },
  {
   "cell_type": "code",
   "execution_count": 44,
   "metadata": {},
   "outputs": [
    {
     "data": {
      "text/plain": [
       "275"
      ]
     },
     "execution_count": 44,
     "metadata": {},
     "output_type": "execute_result"
    }
   ],
   "source": [
    "pose.chain_end(1)"
   ]
  },
  {
   "cell_type": "code",
   "execution_count": 35,
   "metadata": {},
   "outputs": [],
   "source": [
    "pose.delete_residue_range_slow(50,100)"
   ]
  },
  {
   "cell_type": "code",
   "execution_count": 38,
   "metadata": {},
   "outputs": [
    {
     "data": {
      "text/plain": [
       "275"
      ]
     },
     "execution_count": 38,
     "metadata": {},
     "output_type": "execute_result"
    }
   ],
   "source": [
    "len(pose.sequence())"
   ]
  },
  {
   "cell_type": "code",
   "execution_count": 39,
   "metadata": {},
   "outputs": [
    {
     "data": {
      "text/plain": [
       "True"
      ]
     },
     "execution_count": 39,
     "metadata": {},
     "output_type": "execute_result"
    }
   ],
   "source": [
    "pose.dump_pdb(\"1mx3_truncated.pdb\")"
   ]
  },
  {
   "cell_type": "code",
   "execution_count": 16,
   "metadata": {},
   "outputs": [
    {
     "name": "stdout",
     "output_type": "stream",
     "text": [
      "core.import_pose.import_pose: File '1R5P.clean.pdb' automatically determined to be of type PDB\n",
      "core.conformation.Conformation: [ WARNING ] missing heavyatom:  OXT on residue GLU:CtermProteinFull 90\n",
      "core.conformation.Conformation: [ WARNING ] missing heavyatom:  OXT on residue THR:CtermProteinFull 183\n"
     ]
    }
   ],
   "source": [
    "pose = pose_from_pdb(\"1R5P.clean.pdb\")\n"
   ]
  },
  {
   "cell_type": "code",
   "execution_count": 11,
   "metadata": {},
   "outputs": [
    {
     "data": {
      "text/plain": [
       "'TYVLKLYVAGNTPNSVRALKTLKNILEQEFQGIYALKVIDVLKNPQLAEEDKILATPTLSKILPPPVRKIIGDLSDRERVLIGLDLLYEEKTYVLKLYVAGNTPNSVRALKTLKNILEQEFQGIYALKVIDVLKNPQLAEEDKILATPTLSKILPPPVRKIIGDLSDRERVLIGLDLLYEELT'"
      ]
     },
     "execution_count": 11,
     "metadata": {},
     "output_type": "execute_result"
    }
   ],
   "source": [
    "pose.sequence()"
   ]
  },
  {
   "cell_type": "code",
   "execution_count": 9,
   "metadata": {},
   "outputs": [],
   "source": [
    "from pyrosetta.rosetta.core import pose as Pose\n",
    "from pyrosetta.io import pose_from_pdb"
   ]
  },
  {
   "cell_type": "code",
   "execution_count": 30,
   "metadata": {},
   "outputs": [
    {
     "name": "stdout",
     "output_type": "stream",
     "text": [
      "core.chemical.GlobalResidueTypeSet: Finished initializing fa_standard residue type set.  Created 985 residue types\n",
      "core.chemical.GlobalResidueTypeSet: Total time to initialize 0.850897 seconds.\n",
      "core.import_pose.import_pose: File '/Users/robsonlab/Teetly/get_data_pyrosetta/3PS0.clean.pdb' automatically determined to be of type PDB\n",
      "core.conformation.Conformation: [ WARNING ] missing heavyatom:  OXT on residue GLU:CtermProteinFull 293\n",
      "core.conformation.Conformation: [ WARNING ] missing heavyatom:  OXT on residue GLU:CtermProteinFull 565\n",
      "core.conformation.Conformation: [ WARNING ] missing heavyatom:  OXT on residue GLU:CtermProteinFull 1129\n"
     ]
    }
   ],
   "source": [
    "pose = pose_from_pdb(\"/Users/robsonlab/Teetly/get_data_pyrosetta/3PS0.clean.pdb\")"
   ]
  },
  {
   "cell_type": "code",
   "execution_count": 40,
   "metadata": {},
   "outputs": [
    {
     "ename": "TypeError",
     "evalue": "get_chain_residues(): incompatible function arguments. The following argument types are supported:\n    1. (pose: pyrosetta.rosetta.core.pose.Pose, chain_id: int) -> pyrosetta.rosetta.utility.vector1_std_shared_ptr_const_core_conformation_Residue_t\n\nInvoked with: <module 'pyrosetta.rosetta.core.pose'>, 1",
     "output_type": "error",
     "traceback": [
      "\u001b[0;31m---------------------------------------------------------------------------\u001b[0m",
      "\u001b[0;31mTypeError\u001b[0m                                 Traceback (most recent call last)",
      "\u001b[1;32m/Users/robsonlab/Teetly/get_data_pyrosetta/test_pyrosetta.ipynb Cell 10\u001b[0m line \u001b[0;36m1\n\u001b[0;32m----> <a href='vscode-notebook-cell://ssh-remote%2Bgridlog.smith.edu/Users/robsonlab/Teetly/get_data_pyrosetta/test_pyrosetta.ipynb#X24sdnNjb2RlLXJlbW90ZQ%3D%3D?line=0'>1</a>\u001b[0m pose\u001b[39m.\u001b[39;49mget_chain_residues(pose, \u001b[39m1\u001b[39;49m)\n",
      "\u001b[0;31mTypeError\u001b[0m: get_chain_residues(): incompatible function arguments. The following argument types are supported:\n    1. (pose: pyrosetta.rosetta.core.pose.Pose, chain_id: int) -> pyrosetta.rosetta.utility.vector1_std_shared_ptr_const_core_conformation_Residue_t\n\nInvoked with: <module 'pyrosetta.rosetta.core.pose'>, 1"
     ]
    }
   ],
   "source": [
    "pose.get_chain_residues(pose, 1)"
   ]
  },
  {
   "cell_type": "code",
   "execution_count": 23,
   "metadata": {},
   "outputs": [
    {
     "data": {
      "text/plain": [
       "5194    MISGSVRFLVNLESLNGVESIGNLTKHRTAPVVLKTSTGYLVRYVP...\n",
       "Name: Sequence, dtype: object"
      ]
     },
     "execution_count": 23,
     "metadata": {},
     "output_type": "execute_result"
    }
   ],
   "source": [
    "#find entry Q97Y91 and get sequence\n",
    "csv[csv[\"Entry\"] == \"Q97Y91\"]['Sequence']"
   ]
  },
  {
   "cell_type": "code",
   "execution_count": 8,
   "metadata": {},
   "outputs": [],
   "source": [
    "non_enz = os.listdir(\"/Users/robsonlab/Teetly/wildtype_pdbs\")\n",
    "#clean out and get only what is before _\n",
    "non_enz = [i.split(\"_\")[0] for i in non_enz]\n",
    "non_enz = set(non_enz)"
   ]
  },
  {
   "cell_type": "code",
   "execution_count": 10,
   "metadata": {},
   "outputs": [
    {
     "name": "stdout",
     "output_type": "stream",
     "text": [
      "8\n"
     ]
    }
   ],
   "source": [
    "#see how many of entry_set is in non_enz\n",
    "print(len(entry_set.intersection(non_enz)))"
   ]
  },
  {
   "cell_type": "code",
   "execution_count": 4,
   "metadata": {},
   "outputs": [
    {
     "name": "stdout",
     "output_type": "stream",
     "text": [
      "Error: Unable to download FASTA file\n"
     ]
    }
   ],
   "source": [
    "for idx, row in csv.iterrows():\n",
    "    entry = row['Entry']\n",
    "    sequence = row['Sequence']\n",
    "    pdbs = str(row['PDB']).split(\";\")\n",
    "    #remove any non 4-letter codes\n",
    "    pdbs = [pdb for pdb in pdbs if len(pdb) == 4]\n",
    "    #check if the rcsb id ever matches sequence\n",
    "    for pdb in pdbs:\n",
    "        #check if the sequence is equal to canon sequence\n",
    "        if sequence == load_fasta_from_rcsb(pdb):\n",
    "            pose_from_rcsb(pdb, entry = entry, out_file = \"/Users/robsonlab/Teetly/wildtype_pdbs/\", ATOM=True)\n",
    "            #break from loop\n",
    "            break\n",
    "        #see if sti\n",
    "        #assert(sequence == load_fasta_from_rcsb(pdbs[0]))"
   ]
  },
  {
   "cell_type": "code",
   "execution_count": 1,
   "metadata": {},
   "outputs": [
    {
     "ename": "NameError",
     "evalue": "name 'pose_from_rcsb' is not defined",
     "output_type": "error",
     "traceback": [
      "\u001b[0;31m---------------------------------------------------------------------------\u001b[0m",
      "\u001b[0;31mNameError\u001b[0m                                 Traceback (most recent call last)",
      "\u001b[1;32m/Users/robsonlab/Teetly/get_data_pyrosetta/test_pyrosetta.ipynb Cell 15\u001b[0m line \u001b[0;36m1\n\u001b[0;32m----> <a href='vscode-notebook-cell://ssh-remote%2Bgridlog.smith.edu/Users/robsonlab/Teetly/get_data_pyrosetta/test_pyrosetta.ipynb#X20sdnNjb2RlLXJlbW90ZQ%3D%3D?line=0'>1</a>\u001b[0m pose \u001b[39m=\u001b[39m pose_from_rcsb(\u001b[39m\"\u001b[39m\u001b[39m4R5P\u001b[39m\u001b[39m\"\u001b[39m, entry \u001b[39m=\u001b[39m \u001b[39m\"\u001b[39m\u001b[39mtest\u001b[39m\u001b[39m\"\u001b[39m, ATOM\u001b[39m=\u001b[39m\u001b[39mTrue\u001b[39;00m)\n",
      "\u001b[0;31mNameError\u001b[0m: name 'pose_from_rcsb' is not defined"
     ]
    }
   ],
   "source": [
    "pose = pose_from_rcsb(\"4R5P\", entry = \"test\", ATOM=True)"
   ]
  },
  {
   "cell_type": "code",
   "execution_count": 57,
   "metadata": {},
   "outputs": [
    {
     "name": "stdout",
     "output_type": "stream",
     "text": [
      "VLSPADKTNVKAAWGKVGAHAGEYGAEALERMFLSFPTTKTYFPHFDLSHGSAQVKGHGKKVADALTNAVAHVDDMPNALSALSDLHAHKLRVDPVNFKLLSHCLLVTLAAHLPAEFTPAVHASLDKFLASVSTVLTSKYRVHLTPEEKSAVTALWGKVNVDEVGGEALGRLLVVYPWTQRFFESFGDLSTPDAVMGNPKVKAHGKKVLGAFSDGLAHLDNLKGTFATLSELHCDKLHVDPENFRLLGNVLVCVLAHHFGKEFTPPVQAAYQKVVAGVANALAHKYH\n"
     ]
    }
   ],
   "source": [
    "load_fasta_from_rcsb(\"4hhb\")"
   ]
  },
  {
   "cell_type": "code",
   "execution_count": 10,
   "metadata": {},
   "outputs": [],
   "source": [
    "def load_fasta_from_rcsb(pdb_code, fasta_outfile=None):\n",
    "    \"\"\"Downlaod a FASTA file from RCSB and write it to disk.\n",
    "\n",
    "    Args:\n",
    "        pdb_code (str): The four-letter accession code of the desired PDB file\n",
    "        fasta_outfile (str): Optional argument for output filename. Defaults to\n",
    "        <pdb_code>.fasta.\n",
    "    Examples:\n",
    "        >>> load_fasta_from_rcsb(\"1YY8\")\n",
    "    \"\"\"\n",
    "    pdb_code = pdb_code.upper()\n",
    "    fasta_url = (\n",
    "        \"https://www.rcsb.org/fasta/entry/\"\n",
    "        + pdb_code\n",
    "        + \"/display\"\n",
    "    )\n",
    "    try: \n",
    "        filename = urllib.request.urlretrieve(fasta_url, fasta_outfile)[0]\n",
    "        if (os.path.getsize(filename)):    # arbitrary 1500...then pdb_code was invalid\n",
    "            pdb_file = open(filename)\n",
    "            pdb_data = \"\"\n",
    "            #only read lines that don't start iwth > and appent to sequence\n",
    "            for line in pdb_file:\n",
    "                if line[0] != '>':\n",
    "                    pdb_data += line.strip()\n",
    "            pdb_file.close()\n",
    "        return pdb_data\n",
    "    except:\n",
    "        print(\"Error: Unable to download FASTA file\")\n",
    "        return None\n",
    "    "
   ]
  }
 ],
 "metadata": {
  "kernelspec": {
   "display_name": "Python 3",
   "language": "python",
   "name": "python3"
  },
  "language_info": {
   "codemirror_mode": {
    "name": "ipython",
    "version": 3
   },
   "file_extension": ".py",
   "mimetype": "text/x-python",
   "name": "python",
   "nbconvert_exporter": "python",
   "pygments_lexer": "ipython3",
   "version": "3.8.18"
  },
  "orig_nbformat": 4
 },
 "nbformat": 4,
 "nbformat_minor": 2
}
