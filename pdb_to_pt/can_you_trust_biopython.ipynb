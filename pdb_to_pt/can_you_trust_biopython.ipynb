{
 "cells": [
  {
   "cell_type": "code",
   "execution_count": 122,
   "metadata": {},
   "outputs": [],
   "source": [
    "#import torch\n",
    "from torch_geometric.loader import DataLoader\n",
    "import numpy as np\n",
    "import pandas as pd\n",
    "import os\n",
    "from struc_feat import ego_label_set, compute_contacts  \n",
    "import os\n",
    "from torch_geometric.data import Data\n",
    "import re\n",
    "import ast\n",
    "from multiprocessing import Pool\n",
    "from joblib import Parallel, delayed\n",
    "from Bio.PDB import PDBParser\n",
    "import networkx as nx\n",
    "import torch"
   ]
  },
  {
   "cell_type": "code",
   "execution_count": 138,
   "metadata": {},
   "outputs": [],
   "source": [
    "csv = pd.read_csv('/Users/robsonlab/Teetly/get_data_pyrosetta/non_enz.csv')"
   ]
  },
  {
   "cell_type": "code",
   "execution_count": 139,
   "metadata": {},
   "outputs": [
    {
     "data": {
      "text/html": [
       "<div>\n",
       "<style scoped>\n",
       "    .dataframe tbody tr th:only-of-type {\n",
       "        vertical-align: middle;\n",
       "    }\n",
       "\n",
       "    .dataframe tbody tr th {\n",
       "        vertical-align: top;\n",
       "    }\n",
       "\n",
       "    .dataframe thead th {\n",
       "        text-align: right;\n",
       "    }\n",
       "</style>\n",
       "<table border=\"1\" class=\"dataframe\">\n",
       "  <thead>\n",
       "    <tr style=\"text-align: right;\">\n",
       "      <th></th>\n",
       "      <th>Entry</th>\n",
       "      <th>EC number</th>\n",
       "      <th>EC_Shortened</th>\n",
       "      <th>Active site</th>\n",
       "      <th>Binding site</th>\n",
       "      <th>Reviewed</th>\n",
       "      <th>Entry Name</th>\n",
       "      <th>Protein names</th>\n",
       "      <th>Gene Names</th>\n",
       "      <th>Organism</th>\n",
       "      <th>...</th>\n",
       "      <th>pH dependence</th>\n",
       "      <th>Pathway</th>\n",
       "      <th>Kinetics</th>\n",
       "      <th>Activity regulation</th>\n",
       "      <th>Redox potential</th>\n",
       "      <th>Rhea ID</th>\n",
       "      <th>Site</th>\n",
       "      <th>Temperature dependence</th>\n",
       "      <th>PIRSF</th>\n",
       "      <th>PDB</th>\n",
       "    </tr>\n",
       "  </thead>\n",
       "  <tbody>\n",
       "    <tr>\n",
       "      <th>0</th>\n",
       "      <td>A0A061ACU2</td>\n",
       "      <td>[]</td>\n",
       "      <td>[]</td>\n",
       "      <td>[]</td>\n",
       "      <td>[]</td>\n",
       "      <td>reviewed</td>\n",
       "      <td>PIEZ1_CAEEL</td>\n",
       "      <td>Piezo-type mechanosensitive ion channel compon...</td>\n",
       "      <td>pezo-1 C10C5.1</td>\n",
       "      <td>Caenorhabditis elegans</td>\n",
       "      <td>...</td>\n",
       "      <td>NaN</td>\n",
       "      <td>NaN</td>\n",
       "      <td>NaN</td>\n",
       "      <td>NaN</td>\n",
       "      <td>NaN</td>\n",
       "      <td>NaN</td>\n",
       "      <td>NaN</td>\n",
       "      <td>NaN</td>\n",
       "      <td>NaN</td>\n",
       "      <td>4PKE;4PKX;</td>\n",
       "    </tr>\n",
       "    <tr>\n",
       "      <th>1</th>\n",
       "      <td>A0A068B6Q6</td>\n",
       "      <td>[]</td>\n",
       "      <td>[]</td>\n",
       "      <td>[]</td>\n",
       "      <td>[]</td>\n",
       "      <td>reviewed</td>\n",
       "      <td>CA18_CONBE</td>\n",
       "      <td>Conotoxin Bt1.8</td>\n",
       "      <td>NaN</td>\n",
       "      <td>Conus betulinus (Beech cone)</td>\n",
       "      <td>...</td>\n",
       "      <td>NaN</td>\n",
       "      <td>NaN</td>\n",
       "      <td>NaN</td>\n",
       "      <td>NaN</td>\n",
       "      <td>NaN</td>\n",
       "      <td>NaN</td>\n",
       "      <td>SITE 29; /note=\"Important for binding to nAChR...</td>\n",
       "      <td>NaN</td>\n",
       "      <td>NaN</td>\n",
       "      <td>2NAY;</td>\n",
       "    </tr>\n",
       "    <tr>\n",
       "      <th>2</th>\n",
       "      <td>A0A097PTA8</td>\n",
       "      <td>[]</td>\n",
       "      <td>[]</td>\n",
       "      <td>[]</td>\n",
       "      <td>[]</td>\n",
       "      <td>reviewed</td>\n",
       "      <td>DEFCO_COPCI</td>\n",
       "      <td>Fungal defensin copsin</td>\n",
       "      <td>NaN</td>\n",
       "      <td>Coprinopsis cinerea (Inky cap fungus) (Hormogr...</td>\n",
       "      <td>...</td>\n",
       "      <td>BIOPHYSICOCHEMICAL PROPERTIES:  pH dependence:...</td>\n",
       "      <td>NaN</td>\n",
       "      <td>NaN</td>\n",
       "      <td>NaN</td>\n",
       "      <td>NaN</td>\n",
       "      <td>NaN</td>\n",
       "      <td>NaN</td>\n",
       "      <td>BIOPHYSICOCHEMICAL PROPERTIES:  Temperature de...</td>\n",
       "      <td>NaN</td>\n",
       "      <td>2MN5;</td>\n",
       "    </tr>\n",
       "    <tr>\n",
       "      <th>3</th>\n",
       "      <td>A0A0D1DWZ5</td>\n",
       "      <td>[]</td>\n",
       "      <td>[]</td>\n",
       "      <td>[]</td>\n",
       "      <td>[]</td>\n",
       "      <td>reviewed</td>\n",
       "      <td>RRM4_USTMA</td>\n",
       "      <td>RNA-binding protein RRM4</td>\n",
       "      <td>RRM4 UMAG_10836</td>\n",
       "      <td>Ustilago maydis (strain 521 / FGSC 9021) (Corn...</td>\n",
       "      <td>...</td>\n",
       "      <td>NaN</td>\n",
       "      <td>NaN</td>\n",
       "      <td>NaN</td>\n",
       "      <td>NaN</td>\n",
       "      <td>NaN</td>\n",
       "      <td>NaN</td>\n",
       "      <td>NaN</td>\n",
       "      <td>NaN</td>\n",
       "      <td>NaN</td>\n",
       "      <td>7PZE;</td>\n",
       "    </tr>\n",
       "    <tr>\n",
       "      <th>4</th>\n",
       "      <td>A0A0D2UG83</td>\n",
       "      <td>[]</td>\n",
       "      <td>[]</td>\n",
       "      <td>[]</td>\n",
       "      <td>[225, 226, 203, 204, 275, 313, 314, 315, 316, ...</td>\n",
       "      <td>reviewed</td>\n",
       "      <td>H2AY_CAPO3</td>\n",
       "      <td>Histone macroH2A1.1</td>\n",
       "      <td>CAOG_004778</td>\n",
       "      <td>Capsaspora owczarzaki (strain ATCC 30864)</td>\n",
       "      <td>...</td>\n",
       "      <td>NaN</td>\n",
       "      <td>NaN</td>\n",
       "      <td>NaN</td>\n",
       "      <td>NaN</td>\n",
       "      <td>NaN</td>\n",
       "      <td>NaN</td>\n",
       "      <td>NaN</td>\n",
       "      <td>NaN</td>\n",
       "      <td>NaN</td>\n",
       "      <td>7NY6;7NY7;</td>\n",
       "    </tr>\n",
       "    <tr>\n",
       "      <th>...</th>\n",
       "      <td>...</td>\n",
       "      <td>...</td>\n",
       "      <td>...</td>\n",
       "      <td>...</td>\n",
       "      <td>...</td>\n",
       "      <td>...</td>\n",
       "      <td>...</td>\n",
       "      <td>...</td>\n",
       "      <td>...</td>\n",
       "      <td>...</td>\n",
       "      <td>...</td>\n",
       "      <td>...</td>\n",
       "      <td>...</td>\n",
       "      <td>...</td>\n",
       "      <td>...</td>\n",
       "      <td>...</td>\n",
       "      <td>...</td>\n",
       "      <td>...</td>\n",
       "      <td>...</td>\n",
       "      <td>...</td>\n",
       "      <td>...</td>\n",
       "    </tr>\n",
       "    <tr>\n",
       "      <th>4886</th>\n",
       "      <td>Q8YT41</td>\n",
       "      <td>[]</td>\n",
       "      <td>[]</td>\n",
       "      <td>[]</td>\n",
       "      <td>[]</td>\n",
       "      <td>reviewed</td>\n",
       "      <td>KAIB_NOSS1</td>\n",
       "      <td>Circadian clock oscillator protein KaiB</td>\n",
       "      <td>kaiB alr2885</td>\n",
       "      <td>Nostoc sp. (strain PCC 7120 / SAG 25.82 / UTEX...</td>\n",
       "      <td>...</td>\n",
       "      <td>NaN</td>\n",
       "      <td>NaN</td>\n",
       "      <td>NaN</td>\n",
       "      <td>NaN</td>\n",
       "      <td>NaN</td>\n",
       "      <td>NaN</td>\n",
       "      <td>NaN</td>\n",
       "      <td>NaN</td>\n",
       "      <td>NaN</td>\n",
       "      <td>1R5P;</td>\n",
       "    </tr>\n",
       "    <tr>\n",
       "      <th>4887</th>\n",
       "      <td>Q8YT42</td>\n",
       "      <td>[]</td>\n",
       "      <td>[]</td>\n",
       "      <td>[]</td>\n",
       "      <td>[]</td>\n",
       "      <td>reviewed</td>\n",
       "      <td>KAIA_NOSS1</td>\n",
       "      <td>Circadian clock oscillator protein KaiA</td>\n",
       "      <td>kaiA alr2884</td>\n",
       "      <td>Nostoc sp. (strain PCC 7120 / SAG 25.82 / UTEX...</td>\n",
       "      <td>...</td>\n",
       "      <td>NaN</td>\n",
       "      <td>NaN</td>\n",
       "      <td>NaN</td>\n",
       "      <td>NaN</td>\n",
       "      <td>NaN</td>\n",
       "      <td>NaN</td>\n",
       "      <td>NaN</td>\n",
       "      <td>NaN</td>\n",
       "      <td>NaN</td>\n",
       "      <td>1R5Q;</td>\n",
       "    </tr>\n",
       "    <tr>\n",
       "      <th>4888</th>\n",
       "      <td>Q97Y91</td>\n",
       "      <td>[]</td>\n",
       "      <td>[]</td>\n",
       "      <td>[]</td>\n",
       "      <td>[]</td>\n",
       "      <td>reviewed</td>\n",
       "      <td>CSA2B_SACS2</td>\n",
       "      <td>CRISPR-associated aCascade subunit Cas7/Csa2 2...</td>\n",
       "      <td>csa2b cas7b SSO1442</td>\n",
       "      <td>Saccharolobus solfataricus (strain ATCC 35092 ...</td>\n",
       "      <td>...</td>\n",
       "      <td>NaN</td>\n",
       "      <td>NaN</td>\n",
       "      <td>NaN</td>\n",
       "      <td>NaN</td>\n",
       "      <td>NaN</td>\n",
       "      <td>NaN</td>\n",
       "      <td>NaN</td>\n",
       "      <td>NaN</td>\n",
       "      <td>NaN</td>\n",
       "      <td>3PS0;</td>\n",
       "    </tr>\n",
       "    <tr>\n",
       "      <th>4889</th>\n",
       "      <td>Q97YC8</td>\n",
       "      <td>[]</td>\n",
       "      <td>[]</td>\n",
       "      <td>[]</td>\n",
       "      <td>[]</td>\n",
       "      <td>reviewed</td>\n",
       "      <td>CSA5A_SACS2</td>\n",
       "      <td>CRISPR type I-A cluster 1/Apern-associated pro...</td>\n",
       "      <td>csa5 SSO1398</td>\n",
       "      <td>Saccharolobus solfataricus (strain ATCC 35092 ...</td>\n",
       "      <td>...</td>\n",
       "      <td>NaN</td>\n",
       "      <td>NaN</td>\n",
       "      <td>NaN</td>\n",
       "      <td>NaN</td>\n",
       "      <td>NaN</td>\n",
       "      <td>NaN</td>\n",
       "      <td>NaN</td>\n",
       "      <td>NaN</td>\n",
       "      <td>NaN</td>\n",
       "      <td>3ZC4;</td>\n",
       "    </tr>\n",
       "    <tr>\n",
       "      <th>4890</th>\n",
       "      <td>Q9V118</td>\n",
       "      <td>[]</td>\n",
       "      <td>[]</td>\n",
       "      <td>[]</td>\n",
       "      <td>[]</td>\n",
       "      <td>reviewed</td>\n",
       "      <td>RRP42_PYRAB</td>\n",
       "      <td>Exosome complex component Rrp42</td>\n",
       "      <td>rrp42 PYRAB06110 PAB0421</td>\n",
       "      <td>Pyrococcus abyssi (strain GE5 / Orsay)</td>\n",
       "      <td>...</td>\n",
       "      <td>NaN</td>\n",
       "      <td>NaN</td>\n",
       "      <td>NaN</td>\n",
       "      <td>NaN</td>\n",
       "      <td>NaN</td>\n",
       "      <td>NaN</td>\n",
       "      <td>NaN</td>\n",
       "      <td>NaN</td>\n",
       "      <td>NaN</td>\n",
       "      <td>2PNZ;2PO0;2PO1;2PO2;</td>\n",
       "    </tr>\n",
       "  </tbody>\n",
       "</table>\n",
       "<p>4891 rows × 33 columns</p>\n",
       "</div>"
      ],
      "text/plain": [
       "           Entry EC number EC_Shortened Active site  \\\n",
       "0     A0A061ACU2        []           []          []   \n",
       "1     A0A068B6Q6        []           []          []   \n",
       "2     A0A097PTA8        []           []          []   \n",
       "3     A0A0D1DWZ5        []           []          []   \n",
       "4     A0A0D2UG83        []           []          []   \n",
       "...          ...       ...          ...         ...   \n",
       "4886      Q8YT41        []           []          []   \n",
       "4887      Q8YT42        []           []          []   \n",
       "4888      Q97Y91        []           []          []   \n",
       "4889      Q97YC8        []           []          []   \n",
       "4890      Q9V118        []           []          []   \n",
       "\n",
       "                                           Binding site  Reviewed  \\\n",
       "0                                                    []  reviewed   \n",
       "1                                                    []  reviewed   \n",
       "2                                                    []  reviewed   \n",
       "3                                                    []  reviewed   \n",
       "4     [225, 226, 203, 204, 275, 313, 314, 315, 316, ...  reviewed   \n",
       "...                                                 ...       ...   \n",
       "4886                                                 []  reviewed   \n",
       "4887                                                 []  reviewed   \n",
       "4888                                                 []  reviewed   \n",
       "4889                                                 []  reviewed   \n",
       "4890                                                 []  reviewed   \n",
       "\n",
       "       Entry Name                                      Protein names  \\\n",
       "0     PIEZ1_CAEEL  Piezo-type mechanosensitive ion channel compon...   \n",
       "1      CA18_CONBE                                    Conotoxin Bt1.8   \n",
       "2     DEFCO_COPCI                             Fungal defensin copsin   \n",
       "3      RRM4_USTMA                           RNA-binding protein RRM4   \n",
       "4      H2AY_CAPO3                                Histone macroH2A1.1   \n",
       "...           ...                                                ...   \n",
       "4886   KAIB_NOSS1            Circadian clock oscillator protein KaiB   \n",
       "4887   KAIA_NOSS1            Circadian clock oscillator protein KaiA   \n",
       "4888  CSA2B_SACS2  CRISPR-associated aCascade subunit Cas7/Csa2 2...   \n",
       "4889  CSA5A_SACS2  CRISPR type I-A cluster 1/Apern-associated pro...   \n",
       "4890  RRP42_PYRAB                    Exosome complex component Rrp42   \n",
       "\n",
       "                    Gene Names  \\\n",
       "0               pezo-1 C10C5.1   \n",
       "1                          NaN   \n",
       "2                          NaN   \n",
       "3              RRM4 UMAG_10836   \n",
       "4                  CAOG_004778   \n",
       "...                        ...   \n",
       "4886              kaiB alr2885   \n",
       "4887              kaiA alr2884   \n",
       "4888       csa2b cas7b SSO1442   \n",
       "4889              csa5 SSO1398   \n",
       "4890  rrp42 PYRAB06110 PAB0421   \n",
       "\n",
       "                                               Organism  ...  \\\n",
       "0                                Caenorhabditis elegans  ...   \n",
       "1                          Conus betulinus (Beech cone)  ...   \n",
       "2     Coprinopsis cinerea (Inky cap fungus) (Hormogr...  ...   \n",
       "3     Ustilago maydis (strain 521 / FGSC 9021) (Corn...  ...   \n",
       "4             Capsaspora owczarzaki (strain ATCC 30864)  ...   \n",
       "...                                                 ...  ...   \n",
       "4886  Nostoc sp. (strain PCC 7120 / SAG 25.82 / UTEX...  ...   \n",
       "4887  Nostoc sp. (strain PCC 7120 / SAG 25.82 / UTEX...  ...   \n",
       "4888  Saccharolobus solfataricus (strain ATCC 35092 ...  ...   \n",
       "4889  Saccharolobus solfataricus (strain ATCC 35092 ...  ...   \n",
       "4890             Pyrococcus abyssi (strain GE5 / Orsay)  ...   \n",
       "\n",
       "                                          pH dependence Pathway Kinetics  \\\n",
       "0                                                   NaN     NaN      NaN   \n",
       "1                                                   NaN     NaN      NaN   \n",
       "2     BIOPHYSICOCHEMICAL PROPERTIES:  pH dependence:...     NaN      NaN   \n",
       "3                                                   NaN     NaN      NaN   \n",
       "4                                                   NaN     NaN      NaN   \n",
       "...                                                 ...     ...      ...   \n",
       "4886                                                NaN     NaN      NaN   \n",
       "4887                                                NaN     NaN      NaN   \n",
       "4888                                                NaN     NaN      NaN   \n",
       "4889                                                NaN     NaN      NaN   \n",
       "4890                                                NaN     NaN      NaN   \n",
       "\n",
       "      Activity regulation  Redox potential Rhea ID  \\\n",
       "0                     NaN              NaN     NaN   \n",
       "1                     NaN              NaN     NaN   \n",
       "2                     NaN              NaN     NaN   \n",
       "3                     NaN              NaN     NaN   \n",
       "4                     NaN              NaN     NaN   \n",
       "...                   ...              ...     ...   \n",
       "4886                  NaN              NaN     NaN   \n",
       "4887                  NaN              NaN     NaN   \n",
       "4888                  NaN              NaN     NaN   \n",
       "4889                  NaN              NaN     NaN   \n",
       "4890                  NaN              NaN     NaN   \n",
       "\n",
       "                                                   Site  \\\n",
       "0                                                   NaN   \n",
       "1     SITE 29; /note=\"Important for binding to nAChR...   \n",
       "2                                                   NaN   \n",
       "3                                                   NaN   \n",
       "4                                                   NaN   \n",
       "...                                                 ...   \n",
       "4886                                                NaN   \n",
       "4887                                                NaN   \n",
       "4888                                                NaN   \n",
       "4889                                                NaN   \n",
       "4890                                                NaN   \n",
       "\n",
       "                                 Temperature dependence PIRSF  \\\n",
       "0                                                   NaN   NaN   \n",
       "1                                                   NaN   NaN   \n",
       "2     BIOPHYSICOCHEMICAL PROPERTIES:  Temperature de...   NaN   \n",
       "3                                                   NaN   NaN   \n",
       "4                                                   NaN   NaN   \n",
       "...                                                 ...   ...   \n",
       "4886                                                NaN   NaN   \n",
       "4887                                                NaN   NaN   \n",
       "4888                                                NaN   NaN   \n",
       "4889                                                NaN   NaN   \n",
       "4890                                                NaN   NaN   \n",
       "\n",
       "                       PDB  \n",
       "0               4PKE;4PKX;  \n",
       "1                    2NAY;  \n",
       "2                    2MN5;  \n",
       "3                    7PZE;  \n",
       "4               7NY6;7NY7;  \n",
       "...                    ...  \n",
       "4886                 1R5P;  \n",
       "4887                 1R5Q;  \n",
       "4888                 3PS0;  \n",
       "4889                 3ZC4;  \n",
       "4890  2PNZ;2PO0;2PO1;2PO2;  \n",
       "\n",
       "[4891 rows x 33 columns]"
      ]
     },
     "execution_count": 139,
     "metadata": {},
     "output_type": "execute_result"
    }
   ],
   "source": [
    "csv"
   ]
  },
  {
   "cell_type": "code",
   "execution_count": 49,
   "metadata": {},
   "outputs": [],
   "source": [
    "row = csv.iloc[1]\n"
   ]
  },
  {
   "cell_type": "code",
   "execution_count": 50,
   "metadata": {},
   "outputs": [],
   "source": [
    "id = row['Entry']\n",
    "file_list = list(os.listdir(\"/Users/robsonlab/Teetly/wildtype_pdbs\"))\n",
    "r = re.compile(f'{id}*')\n",
    "\n",
    "file_name = list(filter(r.match, file_list))[0]"
   ]
  },
  {
   "cell_type": "code",
   "execution_count": 51,
   "metadata": {},
   "outputs": [],
   "source": [
    "active_binding_sites = ast.literal_eval(row['Active site'])\n",
    "active_binding_sites.extend(ast.literal_eval(row['Binding site']))\n",
    "active_binding_sites.sort()\n",
    "\n",
    "start_site = int(file_name.split('_')[2])\n",
    "end_site = int(file_name.split('_')[3].split('.')[0])\n",
    "#clamp to what's in that range\n",
    "active_binding_sites = [site for site in active_binding_sites if site >= start_site and site <= end_site]"
   ]
  },
  {
   "cell_type": "code",
   "execution_count": 52,
   "metadata": {},
   "outputs": [],
   "source": [
    "#parse pdb\n",
    "pdb_path = f'/Users/robsonlab/Teetly/wildtype_pdbs/{file_name}'\n",
    "parser = PDBParser()\n",
    "protein = parser.get_structure(id, pdb_path)\n",
    "protein = protein[0]"
   ]
  },
  {
   "cell_type": "code",
   "execution_count": 53,
   "metadata": {},
   "outputs": [],
   "source": [
    "#print residue sequence \n",
    "residues = list(protein.get_residues())\n",
    "assert len(residues) == end_site - start_site + 1"
   ]
  },
  {
   "cell_type": "code",
   "execution_count": 54,
   "metadata": {},
   "outputs": [],
   "source": [
    "from struc_feat import load_pdb"
   ]
  },
  {
   "cell_type": "code",
   "execution_count": 55,
   "metadata": {},
   "outputs": [],
   "source": [
    "node_labels, coords, lrfs, residue_one_hot = load_pdb(protein)"
   ]
  },
  {
   "cell_type": "code",
   "execution_count": 56,
   "metadata": {},
   "outputs": [],
   "source": [
    "residue_one_hot = torch.tensor(residue_one_hot, dtype = torch.float)"
   ]
  },
  {
   "cell_type": "code",
   "execution_count": 57,
   "metadata": {},
   "outputs": [],
   "source": [
    "pos = torch.tensor(coords, dtype=torch.float)"
   ]
  },
  {
   "cell_type": "code",
   "execution_count": 58,
   "metadata": {},
   "outputs": [],
   "source": [
    "angle_geom = torch.tensor(lrfs, dtype=torch.float)"
   ]
  },
  {
   "cell_type": "code",
   "execution_count": 59,
   "metadata": {},
   "outputs": [],
   "source": [
    "def create_protein_graph(active_and_binding_site_residues, protein, start_site):\n",
    "    \"\"\"For a given protein pdb_id, extract all functional site annotations and create a graph where the contact map is\n",
    "    the adjancency matrix, nodes are labelled according to \"chain_position_residue\" and functionality of nodes is depicted.\n",
    "\n",
    "    Args:\n",
    "        PDB_ID (str): PDB ID of the protein which is to be converted to a graph\n",
    "        df (pd.DataFrame): Dataframe containing the PDBSite annotations\n",
    "\n",
    "    Returns:\n",
    "        protein_graph (nx.Graph): graph with attributes such as functionality, pdb_site_id, length of functional site,\n",
    "                                edges are the contacts between residues\n",
    "    \"\"\"\n",
    "    \n",
    "    node_labels, coords, lrfs, residue_one_hot = load_pdb( protein)\n",
    "    contacts = compute_contacts(coords, node_labels)\n",
    "    # plt.imshow(contacts)\n",
    "    # print(node_labels, info_dict, coords)\n",
    "    assert contacts.shape[0] == len(node_labels)\n",
    "    print(len(node_labels))\n",
    "    protein_graph = nx.from_numpy_matrix(contacts)\n",
    "    \n",
    "    # protein_graph.edges\n",
    "    nx.set_node_attributes(\n",
    "        protein_graph, name=\"y\", values=0\n",
    "    )  # 0 for non-functional, 1 for functional\n",
    "    ##### groupby protein structure, set all nodes to none\n",
    "    ##### select functional sites, put label function, subtype: header\n",
    "    #take in the active and binding site residues and label their respective nodes as y = 1\n",
    "    for res_num in active_and_binding_site_residues:\n",
    "        #index for that residue number\n",
    "        try:\n",
    "            protein_graph.nodes[res_num-start_site][\"y\"] = 1\n",
    "        except:\n",
    "            pass\n",
    "    return protein_graph"
   ]
  },
  {
   "cell_type": "code",
   "execution_count": 61,
   "metadata": {},
   "outputs": [
    {
     "name": "stdout",
     "output_type": "stream",
     "text": [
      "590\n"
     ]
    }
   ],
   "source": [
    "graph  = create_protein_graph(active_binding_sites, protein, start_site)"
   ]
  },
  {
   "cell_type": "code",
   "execution_count": 62,
   "metadata": {},
   "outputs": [],
   "source": [
    "y =  torch.tensor([att[\"y\"] for node, att in graph.nodes(data=True)], dtype=torch.float)"
   ]
  },
  {
   "cell_type": "code",
   "execution_count": 69,
   "metadata": {},
   "outputs": [
    {
     "name": "stdout",
     "output_type": "stream",
     "text": [
      "torch.Size([590])\n"
     ]
    }
   ],
   "source": [
    "label_graphs = ego_label_set(graph, active_binding_sites, start_site)"
   ]
  },
  {
   "cell_type": "code",
   "execution_count": 70,
   "metadata": {},
   "outputs": [
    {
     "data": {
      "text/plain": [
       "tensor([0., 0., 0., 0., 0., 0., 0., 0., 0., 0., 0., 0., 0., 0., 0., 0., 0., 0.,\n",
       "        0., 0., 0., 0., 1., 1., 0., 0., 0., 0., 0., 0., 0., 0., 0., 0., 0., 0.,\n",
       "        0., 0., 0., 0., 0., 0., 0., 0., 0., 0., 0., 0., 0., 0., 0., 0., 0., 0.,\n",
       "        0., 0., 0., 0., 0., 0., 0., 0., 0., 0., 0., 0., 0., 0., 0., 0., 0., 0.,\n",
       "        0., 0., 0., 0., 0., 0., 0., 0., 0., 0., 0., 0., 0., 0., 0., 0., 0., 0.,\n",
       "        0., 0., 0., 0., 0., 0., 0., 0., 0., 0., 0., 0., 0., 0., 0., 0., 0., 0.,\n",
       "        0., 1., 1., 1., 1., 0., 0., 0., 0., 0., 0., 0., 0., 0., 0., 0., 0., 0.,\n",
       "        0., 0., 0., 0., 0., 0., 0., 0., 0., 0., 0., 0., 0., 0., 0., 0., 0., 0.,\n",
       "        0., 0., 0., 0., 0., 0., 0., 0., 0., 0., 0., 0., 0., 0., 0., 0., 0., 0.,\n",
       "        0., 0., 0., 0., 0., 0., 0., 0., 0., 0., 0., 0., 0., 0., 0., 0., 0., 0.,\n",
       "        0., 0., 0., 0., 0., 0., 0., 0., 0., 0., 0., 0., 0., 0., 0., 0., 0., 0.,\n",
       "        0., 0., 0., 0., 0., 0., 0., 0., 0., 0., 0., 0., 0., 0., 0., 0., 0., 0.,\n",
       "        0., 0., 0., 0., 0., 0., 0., 0., 0., 0., 0., 0., 0., 0., 0., 0., 0., 0.,\n",
       "        0., 0., 0., 0., 0., 0., 0., 0., 0., 0., 0., 0., 0., 0., 0., 0., 0., 0.,\n",
       "        0., 0., 0., 0., 0., 0., 0., 0., 0., 0., 0., 0., 0., 0., 0., 0., 0., 0.,\n",
       "        0., 0., 0., 0., 0., 0., 0., 0., 0., 0., 0., 0., 0., 0., 0., 0., 0., 0.,\n",
       "        0., 0., 0., 0., 0., 0., 0., 0., 0., 0., 0., 0., 0., 0., 0., 0., 0., 0.,\n",
       "        0., 0., 0., 0., 0., 0., 0., 0., 0., 0., 0., 0., 0., 0., 0., 0., 0., 0.,\n",
       "        0., 0., 0., 0., 0., 0., 0., 0., 0., 0., 0., 0., 0., 0., 0., 0., 0., 0.,\n",
       "        0., 0., 0., 0., 0., 0., 0., 0., 0., 0., 0., 0., 0., 0., 0., 0., 0., 0.,\n",
       "        0., 0., 0., 0., 0., 0., 0., 0., 0., 0., 0., 0., 0., 0., 0., 0., 0., 0.,\n",
       "        0., 0., 0., 0., 0., 0., 0., 0., 0., 0., 0., 0., 0., 0., 0., 0., 0., 0.,\n",
       "        0., 0., 0., 0., 0., 0., 0., 0., 0., 0., 0., 0., 0., 0., 0., 0., 0., 0.,\n",
       "        0., 0., 0., 0., 0., 0., 0., 0., 0., 0., 0., 0., 0., 0., 0., 0., 0., 0.,\n",
       "        0., 0., 0., 0., 0., 0., 0., 0., 0., 0., 0., 0., 0., 0., 0., 0., 0., 0.,\n",
       "        0., 0., 0., 0., 0., 0., 0., 0., 0., 0., 0., 0., 0., 0., 0., 0., 0., 0.,\n",
       "        0., 0., 0., 0., 0., 0., 0., 0., 0., 0., 0., 0., 0., 0., 0., 0., 0., 0.,\n",
       "        0., 0., 0., 0., 0., 0., 0., 0., 0., 0., 0., 0., 0., 0., 0., 0., 0., 0.,\n",
       "        0., 0., 0., 0., 0., 0., 0., 0., 0., 0., 0., 0., 0., 0., 0., 0., 0., 0.,\n",
       "        0., 0., 0., 0., 0., 0., 0., 0., 0., 0., 0., 0., 0., 0., 0., 0., 0., 0.,\n",
       "        0., 0., 0., 0., 0., 0., 0., 0., 0., 0., 0., 0., 0., 0., 0., 0., 0., 0.,\n",
       "        0., 0., 0., 0., 0., 0., 0., 0., 0., 0., 0., 0., 1., 1., 0., 0., 0., 0.,\n",
       "        0., 0., 0., 0., 0., 0., 0., 0., 0., 0., 0., 0., 0., 0.])"
      ]
     },
     "execution_count": 70,
     "metadata": {},
     "output_type": "execute_result"
    }
   ],
   "source": [
    "label_graphs"
   ]
  },
  {
   "cell_type": "code",
   "execution_count": 71,
   "metadata": {},
   "outputs": [],
   "source": [
    "edge_index = torch.LongTensor(list(graph.edges)).t().contiguous()"
   ]
  },
  {
   "cell_type": "code",
   "execution_count": 68,
   "metadata": {},
   "outputs": [],
   "source": [
    "def ego_label_set(graph: nx.Graph, sites: list, start_site:int, \n",
    "                  radius = 3, \n",
    "                  overlap_ratio_cutoff = 0.7):\n",
    "    label_graphs = torch.zeros(len(graph.nodes), dtype=torch.float)\n",
    "    print(label_graphs.shape)\n",
    "    functional_nodes = [\n",
    "        node for node, att in graph.nodes(data=True) if att[\"y\"] == 1\n",
    "    ]\n",
    "    for functional_node in functional_nodes:\n",
    "        ego_subgraph = nx.ego_graph(graph, functional_node, radius=radius)\n",
    "        #count number of functional nodes in ego subgraph\n",
    "        func_subgraph_nodes = len([\n",
    "            node for node, att in ego_subgraph.nodes(data=True) if att[\"y\"] == 1\n",
    "        ]) + 1\n",
    "        #now find number of functional nodes within 10 angstroms of functional node\n",
    "        #extract site nodes numbers, and compute distances\n",
    "        total_func_nodes_ten_apart = 1  \n",
    "        for site in sites:\n",
    "            try:\n",
    "                if nx.shortest_path_length(graph, source=functional_node, target=site, weight='distance') <= 10: #in try except since nodes may not be reachable, but there is no shortest path thing that coudl return null\n",
    "                    total_func_nodes_ten_apart += 1\n",
    "            except:\n",
    "                pass\n",
    "        #if this functional node has at least [overlap_ratio_cutoff] of the functional nodes within 10 angstroms of it, give it an ego label of 1 and add it\n",
    "        #to label_graphs dictionary\n",
    "        \n",
    "        if func_subgraph_nodes / total_func_nodes_ten_apart >= overlap_ratio_cutoff:\n",
    "            label_graphs[functional_node] = 1\n",
    "        \n",
    "    # nx.set_node_attributes(graph, ego_label, \"ego_label\")\n",
    "    return label_graphs"
   ]
  },
  {
   "cell_type": "code",
   "execution_count": 77,
   "metadata": {},
   "outputs": [],
   "source": [
    "ecs = ast.literal_eval(row['EC_Shortened'])\n",
    "#len(label_graphs)"
   ]
  },
  {
   "cell_type": "code",
   "execution_count": 86,
   "metadata": {},
   "outputs": [],
   "source": [
    "ec_vals = torch.zeros(8, dtype=torch.float)\n",
    "if len(ecs) > 0:\n",
    "    for ec in ecs:\n",
    "        ec_vals[ec] = 1"
   ]
  },
  {
   "cell_type": "markdown",
   "metadata": {},
   "source": [
    "Inspections"
   ]
  },
  {
   "cell_type": "code",
   "execution_count": 140,
   "metadata": {},
   "outputs": [],
   "source": [
    "data = torch.load(\"/Users/robsonlab/Teetly/tmp/A0A0G2KTI4_6NPH_206_677.pdb.pt\")"
   ]
  },
  {
   "cell_type": "code",
   "execution_count": 118,
   "metadata": {},
   "outputs": [
    {
     "data": {
      "text/plain": [
       "tensor([[1]])"
      ]
     },
     "execution_count": 118,
     "metadata": {},
     "output_type": "execute_result"
    }
   ],
   "source": [
    "data"
   ]
  },
  {
   "cell_type": "code",
   "execution_count": 142,
   "metadata": {},
   "outputs": [
    {
     "data": {
      "text/plain": [
       "tensor([[ 13],\n",
       "        [ 14],\n",
       "        [ 15],\n",
       "        [ 16],\n",
       "        [ 17],\n",
       "        [ 18],\n",
       "        [ 19],\n",
       "        [ 88],\n",
       "        [ 99],\n",
       "        [211],\n",
       "        [212],\n",
       "        [214],\n",
       "        [215],\n",
       "        [216],\n",
       "        [329],\n",
       "        [332],\n",
       "        [333],\n",
       "        [401],\n",
       "        [405]])"
      ]
     },
     "execution_count": 142,
     "metadata": {},
     "output_type": "execute_result"
    }
   ],
   "source": [
    "#sum data.x along x\n",
    "data.y.nonzero()"
   ]
  },
  {
   "cell_type": "code",
   "execution_count": 145,
   "metadata": {},
   "outputs": [
    {
     "data": {
      "text/plain": [
       "tensor([[ 13],\n",
       "        [ 14],\n",
       "        [ 15],\n",
       "        [ 16],\n",
       "        [ 17],\n",
       "        [ 18],\n",
       "        [ 19],\n",
       "        [ 99],\n",
       "        [211],\n",
       "        [212],\n",
       "        [214],\n",
       "        [215],\n",
       "        [216],\n",
       "        [329],\n",
       "        [332],\n",
       "        [333]])"
      ]
     },
     "execution_count": 145,
     "metadata": {},
     "output_type": "execute_result"
    }
   ],
   "source": [
    "#sum total 1s in data.y\n",
    "data.label_graphs.nonzero()"
   ]
  },
  {
   "cell_type": "code",
   "execution_count": 141,
   "metadata": {},
   "outputs": [
    {
     "data": {
      "text/plain": [
       "tensor([0., 0., 0., 0., 0., 0., 0., 0.])"
      ]
     },
     "execution_count": 141,
     "metadata": {},
     "output_type": "execute_result"
    }
   ],
   "source": [
    "data.ec_number"
   ]
  },
  {
   "cell_type": "code",
   "execution_count": 111,
   "metadata": {},
   "outputs": [
    {
     "data": {
      "text/plain": [
       "tensor([0., 0., 0., 0., 1., 0., 0., 0.])"
      ]
     },
     "execution_count": 111,
     "metadata": {},
     "output_type": "execute_result"
    }
   ],
   "source": [
    "#sum total ones in data.label_graphs\n",
    "data.ec_number"
   ]
  }
 ],
 "metadata": {
  "kernelspec": {
   "display_name": "Python 3",
   "language": "python",
   "name": "python3"
  },
  "language_info": {
   "codemirror_mode": {
    "name": "ipython",
    "version": 3
   },
   "file_extension": ".py",
   "mimetype": "text/x-python",
   "name": "python",
   "nbconvert_exporter": "python",
   "pygments_lexer": "ipython3",
   "version": "3.7.10"
  },
  "orig_nbformat": 4
 },
 "nbformat": 4,
 "nbformat_minor": 2
}
